{
 "cells": [
  {
   "cell_type": "code",
   "execution_count": 1,
   "id": "serious-badge",
   "metadata": {},
   "outputs": [],
   "source": [
    "import numpy as np"
   ]
  },
  {
   "cell_type": "code",
   "execution_count": 4,
   "id": "generic-training",
   "metadata": {},
   "outputs": [],
   "source": [
    "arrays = np.random.randn(3, 4)"
   ]
  },
  {
   "cell_type": "code",
   "execution_count": 5,
   "id": "mexican-sudan",
   "metadata": {},
   "outputs": [
    {
     "data": {
      "text/plain": [
       "array([[-0.3188779 ,  0.88796673, -0.40510442,  0.75149191],\n",
       "       [-0.99670486, -1.7914232 ,  1.07326953, -0.10533781],\n",
       "       [-0.83128938, -1.0156518 ,  0.25236522, -0.67673549]])"
      ]
     },
     "execution_count": 5,
     "metadata": {},
     "output_type": "execute_result"
    }
   ],
   "source": [
    "arrays"
   ]
  },
  {
   "cell_type": "code",
   "execution_count": 9,
   "id": "checked-share",
   "metadata": {},
   "outputs": [
    {
     "data": {
      "text/plain": [
       "array([[-0.3188779 , -0.99670486, -0.83128938],\n",
       "       [ 0.88796673, -1.7914232 , -1.0156518 ],\n",
       "       [-0.40510442,  1.07326953,  0.25236522],\n",
       "       [ 0.75149191, -0.10533781, -0.67673549]])"
      ]
     },
     "execution_count": 9,
     "metadata": {},
     "output_type": "execute_result"
    }
   ],
   "source": [
    "np.stack(arrays, axis=1)"
   ]
  },
  {
   "cell_type": "code",
   "execution_count": null,
   "id": "floppy-maintenance",
   "metadata": {},
   "outputs": [],
   "source": []
  }
 ],
 "metadata": {
  "kernelspec": {
   "display_name": "Python 3",
   "language": "python",
   "name": "python3"
  },
  "language_info": {
   "codemirror_mode": {
    "name": "ipython",
    "version": 3
   },
   "file_extension": ".py",
   "mimetype": "text/x-python",
   "name": "python",
   "nbconvert_exporter": "python",
   "pygments_lexer": "ipython3",
   "version": "3.8.10"
  }
 },
 "nbformat": 4,
 "nbformat_minor": 5
}

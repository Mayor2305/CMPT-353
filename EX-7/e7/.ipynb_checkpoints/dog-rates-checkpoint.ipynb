{
 "cells": [
  {
   "cell_type": "code",
   "execution_count": 1,
   "id": "digital-kenya",
   "metadata": {},
   "outputs": [],
   "source": [
    "import pandas as pd\n",
    "import matplotlib.pyplot as plt\n",
    "import datetime as dt\n",
    "import scipy.stats as ss\n",
    "import warnings\n",
    "warnings.filterwarnings(\"ignore\", 'This pattern has match groups')\n",
    "pd.options.mode.chained_assignment = None"
   ]
  },
  {
   "cell_type": "code",
   "execution_count": 2,
   "id": "circular-locator",
   "metadata": {},
   "outputs": [],
   "source": [
    "def to_timestamp (d) :\n",
    "    return d.timestamp()"
   ]
  },
  {
   "cell_type": "code",
   "execution_count": 3,
   "id": "canadian-boutique",
   "metadata": {},
   "outputs": [],
   "source": [
    "dog_rates_tweets = pd.read_csv('dog_rates_tweets.csv')"
   ]
  },
  {
   "cell_type": "code",
   "execution_count": 4,
   "id": "answering-lecture",
   "metadata": {
    "scrolled": true
   },
   "outputs": [],
   "source": [
    "data = dog_rates_tweets[dog_rates_tweets['text'].str.contains(r'(\\d+(\\.\\d+)?)/10') == True]\n",
    "data['rating'] = (data['text'].str.extract(r'(\\d+(\\.\\d+)?)/10')[0]).astype(float)\n",
    "data = data.drop(data[data.rating > 25].index)\n",
    "data.created_at = pd.to_datetime(data.created_at)\n",
    "data['timestamp'] = data['created_at'].apply(to_timestamp)"
   ]
  },
  {
   "cell_type": "code",
   "execution_count": 5,
   "id": "empirical-valuation",
   "metadata": {},
   "outputs": [],
   "source": [
    "fit = ss.linregress(data['timestamp'], data[\"rating\"].values)"
   ]
  },
  {
   "cell_type": "code",
   "execution_count": 6,
   "id": "professional-archives",
   "metadata": {},
   "outputs": [],
   "source": [
    "data['prediction'] = data['timestamp']*fit.slope + fit.intercept"
   ]
  },
  {
   "cell_type": "code",
   "execution_count": 7,
   "id": "opposed-brain",
   "metadata": {},
   "outputs": [
    {
     "data": {
      "text/html": [
       "<div>\n",
       "<style scoped>\n",
       "    .dataframe tbody tr th:only-of-type {\n",
       "        vertical-align: middle;\n",
       "    }\n",
       "\n",
       "    .dataframe tbody tr th {\n",
       "        vertical-align: top;\n",
       "    }\n",
       "\n",
       "    .dataframe thead th {\n",
       "        text-align: right;\n",
       "    }\n",
       "</style>\n",
       "<table border=\"1\" class=\"dataframe\">\n",
       "  <thead>\n",
       "    <tr style=\"text-align: right;\">\n",
       "      <th></th>\n",
       "      <th>id</th>\n",
       "      <th>created_at</th>\n",
       "      <th>text</th>\n",
       "      <th>rating</th>\n",
       "      <th>timestamp</th>\n",
       "      <th>prediction</th>\n",
       "    </tr>\n",
       "  </thead>\n",
       "  <tbody>\n",
       "    <tr>\n",
       "      <th>2</th>\n",
       "      <td>994363623421153280</td>\n",
       "      <td>2018-05-09 23:48:56</td>\n",
       "      <td>This is Louie. He has misplaced his Cheerio. W...</td>\n",
       "      <td>14.0</td>\n",
       "      <td>1.525910e+09</td>\n",
       "      <td>12.624973</td>\n",
       "    </tr>\n",
       "    <tr>\n",
       "      <th>7</th>\n",
       "      <td>993889039714578432</td>\n",
       "      <td>2018-05-08 16:23:07</td>\n",
       "      <td>This is Manny. He hasn’t seen your croissant. ...</td>\n",
       "      <td>13.0</td>\n",
       "      <td>1.525797e+09</td>\n",
       "      <td>12.622373</td>\n",
       "    </tr>\n",
       "    <tr>\n",
       "      <th>8</th>\n",
       "      <td>993629544463642624</td>\n",
       "      <td>2018-05-07 23:11:58</td>\n",
       "      <td>This is Libby. She leap. 14/10\\n(IG: libbythef...</td>\n",
       "      <td>14.0</td>\n",
       "      <td>1.525735e+09</td>\n",
       "      <td>12.620951</td>\n",
       "    </tr>\n",
       "    <tr>\n",
       "      <th>24</th>\n",
       "      <td>992198572664860672</td>\n",
       "      <td>2018-05-04 00:25:48</td>\n",
       "      <td>This is Rosie. She thought Coachella was this ...</td>\n",
       "      <td>13.0</td>\n",
       "      <td>1.525394e+09</td>\n",
       "      <td>12.613109</td>\n",
       "    </tr>\n",
       "    <tr>\n",
       "      <th>30</th>\n",
       "      <td>991744041351090177</td>\n",
       "      <td>2018-05-02 18:19:39</td>\n",
       "      <td>This is Riley. He’ll be your chauffeur this ev...</td>\n",
       "      <td>13.0</td>\n",
       "      <td>1.525285e+09</td>\n",
       "      <td>12.610619</td>\n",
       "    </tr>\n",
       "    <tr>\n",
       "      <th>...</th>\n",
       "      <td>...</td>\n",
       "      <td>...</td>\n",
       "      <td>...</td>\n",
       "      <td>...</td>\n",
       "      <td>...</td>\n",
       "      <td>...</td>\n",
       "    </tr>\n",
       "    <tr>\n",
       "      <th>11631</th>\n",
       "      <td>1096203765189726208</td>\n",
       "      <td>2019-02-15 00:25:18</td>\n",
       "      <td>honorary 15/10 for Oppy, the very good space r...</td>\n",
       "      <td>15.0</td>\n",
       "      <td>1.550190e+09</td>\n",
       "      <td>13.183014</td>\n",
       "    </tr>\n",
       "    <tr>\n",
       "      <th>11638</th>\n",
       "      <td>1095730341828915200</td>\n",
       "      <td>2019-02-13 17:04:05</td>\n",
       "      <td>This is George. He doesn’t chew socks. He just...</td>\n",
       "      <td>14.0</td>\n",
       "      <td>1.550077e+09</td>\n",
       "      <td>13.180420</td>\n",
       "    </tr>\n",
       "    <tr>\n",
       "      <th>11665</th>\n",
       "      <td>1093636946046242817</td>\n",
       "      <td>2019-02-07 22:25:41</td>\n",
       "      <td>@Panthers @Proud_KCS 13/10 easy</td>\n",
       "      <td>13.0</td>\n",
       "      <td>1.549578e+09</td>\n",
       "      <td>13.168949</td>\n",
       "    </tr>\n",
       "    <tr>\n",
       "      <th>11666</th>\n",
       "      <td>1093636812818472960</td>\n",
       "      <td>2019-02-07 22:25:09</td>\n",
       "      <td>RT @GeekandSundry: .@Dog_Rates Announces a New...</td>\n",
       "      <td>13.0</td>\n",
       "      <td>1.549578e+09</td>\n",
       "      <td>13.168949</td>\n",
       "    </tr>\n",
       "    <tr>\n",
       "      <th>11672</th>\n",
       "      <td>1093315910369107968</td>\n",
       "      <td>2019-02-07 01:10:00</td>\n",
       "      <td>This is Missy. These are her best angles. She ...</td>\n",
       "      <td>12.0</td>\n",
       "      <td>1.549502e+09</td>\n",
       "      <td>13.167190</td>\n",
       "    </tr>\n",
       "  </tbody>\n",
       "</table>\n",
       "<p>1871 rows × 6 columns</p>\n",
       "</div>"
      ],
      "text/plain": [
       "                        id          created_at  \\\n",
       "2       994363623421153280 2018-05-09 23:48:56   \n",
       "7       993889039714578432 2018-05-08 16:23:07   \n",
       "8       993629544463642624 2018-05-07 23:11:58   \n",
       "24      992198572664860672 2018-05-04 00:25:48   \n",
       "30      991744041351090177 2018-05-02 18:19:39   \n",
       "...                    ...                 ...   \n",
       "11631  1096203765189726208 2019-02-15 00:25:18   \n",
       "11638  1095730341828915200 2019-02-13 17:04:05   \n",
       "11665  1093636946046242817 2019-02-07 22:25:41   \n",
       "11666  1093636812818472960 2019-02-07 22:25:09   \n",
       "11672  1093315910369107968 2019-02-07 01:10:00   \n",
       "\n",
       "                                                    text  rating  \\\n",
       "2      This is Louie. He has misplaced his Cheerio. W...    14.0   \n",
       "7      This is Manny. He hasn’t seen your croissant. ...    13.0   \n",
       "8      This is Libby. She leap. 14/10\\n(IG: libbythef...    14.0   \n",
       "24     This is Rosie. She thought Coachella was this ...    13.0   \n",
       "30     This is Riley. He’ll be your chauffeur this ev...    13.0   \n",
       "...                                                  ...     ...   \n",
       "11631  honorary 15/10 for Oppy, the very good space r...    15.0   \n",
       "11638  This is George. He doesn’t chew socks. He just...    14.0   \n",
       "11665                    @Panthers @Proud_KCS 13/10 easy    13.0   \n",
       "11666  RT @GeekandSundry: .@Dog_Rates Announces a New...    13.0   \n",
       "11672  This is Missy. These are her best angles. She ...    12.0   \n",
       "\n",
       "          timestamp  prediction  \n",
       "2      1.525910e+09   12.624973  \n",
       "7      1.525797e+09   12.622373  \n",
       "8      1.525735e+09   12.620951  \n",
       "24     1.525394e+09   12.613109  \n",
       "30     1.525285e+09   12.610619  \n",
       "...             ...         ...  \n",
       "11631  1.550190e+09   13.183014  \n",
       "11638  1.550077e+09   13.180420  \n",
       "11665  1.549578e+09   13.168949  \n",
       "11666  1.549578e+09   13.168949  \n",
       "11672  1.549502e+09   13.167190  \n",
       "\n",
       "[1871 rows x 6 columns]"
      ]
     },
     "execution_count": 7,
     "metadata": {},
     "output_type": "execute_result"
    }
   ],
   "source": [
    "data"
   ]
  },
  {
   "cell_type": "code",
   "execution_count": 8,
   "id": "random-external",
   "metadata": {},
   "outputs": [
    {
     "data": {
      "text/plain": [
       "(2.2983031752244575e-08, -22.445058882763483)"
      ]
     },
     "execution_count": 8,
     "metadata": {},
     "output_type": "execute_result"
    }
   ],
   "source": [
    "fit.slope, fit.intercept"
   ]
  },
  {
   "cell_type": "code",
   "execution_count": 9,
   "id": "whole-creator",
   "metadata": {},
   "outputs": [
    {
     "data": {
      "image/png": "[encoded data removed]",
      "text/plain": [
       "<Figure size 432x288 with 1 Axes>"
      ]
     },
     "metadata": {
      "needs_background": "light"
     },
     "output_type": "display_data"
    }
   ],
   "source": [
    "plt.xticks(rotation=25)\n",
    "plt.plot(data[\"created_at\"].dt.date, data[\"rating\"].values, 'b.', alpha=0.5)\n",
    "plt.plot(data[\"created_at\"].dt.date, data['timestamp']*fit.slope + fit.intercept, 'r-', linewidth=3)\n",
    "plt.show()"
   ]
  },
  {
   "cell_type": "code",
   "execution_count": 10,
   "id": "central-pulse",
   "metadata": {},
   "outputs": [
    {
     "data": {
      "text/plain": [
       "3.793798773104138e-121"
      ]
     },
     "execution_count": 10,
     "metadata": {},
     "output_type": "execute_result"
    }
   ],
   "source": [
    "fit.pvalue"
   ]
  },
  {
   "cell_type": "code",
   "execution_count": 11,
   "id": "continued-appliance",
   "metadata": {
    "scrolled": true
   },
   "outputs": [
    {
     "data": {
      "image/png": "[encoded data removed]",
      "text/plain": [
       "<Figure size 432x288 with 1 Axes>"
      ]
     },
     "metadata": {
      "needs_background": "light"
     },
     "output_type": "display_data"
    }
   ],
   "source": [
    "residuals = data[\"rating\"].values - data['prediction']\n",
    "plt.hist(residuals);"
   ]
  },
  {
   "cell_type": "code",
   "execution_count": null,
   "id": "under-niagara",
   "metadata": {},
   "outputs": [],
   "source": []
  }
 ],
 "metadata": {
  "kernelspec": {
   "display_name": "Python 3",
   "language": "python",
   "name": "python3"
  },
  "language_info": {
   "codemirror_mode": {
    "name": "ipython",
    "version": 3
   },
   "file_extension": ".py",
   "mimetype": "text/x-python",
   "name": "python",
   "nbconvert_exporter": "python",
   "pygments_lexer": "ipython3",
   "version": "3.8.10"
  }
 },
 "nbformat": 4,
 "nbformat_minor": 5
}

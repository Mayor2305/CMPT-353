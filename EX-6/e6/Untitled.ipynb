{
 "cells": [
  {
   "cell_type": "code",
   "execution_count": 1,
   "id": "apparent-debut",
   "metadata": {},
   "outputs": [
    {
     "name": "stdout",
     "output_type": "stream",
     "text": [
      "3.7133549330496334e-234\n",
      "        Multiple Comparison of Means - Tukey HSD, FWER=0.05         \n",
      "====================================================================\n",
      "    group1         group2     meandiff p-adj   lower   upper  reject\n",
      "--------------------------------------------------------------------\n",
      "        merge1 partition_sort  -0.0137  0.001 -0.0151 -0.0122   True\n",
      "        merge1            qs1  -0.0096  0.001  -0.011 -0.0082   True\n",
      "        merge1            qs2  -0.0006    0.9  -0.002  0.0009  False\n",
      "        merge1            qs3  -0.0002    0.9 -0.0016  0.0012  False\n",
      "        merge1            qs4  -0.0024  0.001 -0.0038  -0.001   True\n",
      "        merge1            qs5  -0.0033  0.001 -0.0047 -0.0018   True\n",
      "partition_sort            qs1   0.0041  0.001  0.0027  0.0055   True\n",
      "partition_sort            qs2   0.0131  0.001  0.0117  0.0145   True\n",
      "partition_sort            qs3   0.0135  0.001  0.0121  0.0149   True\n",
      "partition_sort            qs4   0.0113  0.001  0.0098  0.0127   True\n",
      "partition_sort            qs5   0.0104  0.001   0.009  0.0118   True\n",
      "           qs1            qs2    0.009  0.001  0.0076  0.0104   True\n",
      "           qs1            qs3   0.0094  0.001   0.008  0.0108   True\n",
      "           qs1            qs4   0.0072  0.001  0.0058  0.0086   True\n",
      "           qs1            qs5   0.0063  0.001  0.0049  0.0077   True\n",
      "           qs2            qs3   0.0004    0.9  -0.001  0.0018  False\n",
      "           qs2            qs4  -0.0018 0.0036 -0.0032 -0.0004   True\n",
      "           qs2            qs5  -0.0027  0.001 -0.0041 -0.0013   True\n",
      "           qs3            qs4  -0.0022  0.001 -0.0036 -0.0008   True\n",
      "           qs3            qs5  -0.0031  0.001 -0.0045 -0.0017   True\n",
      "           qs4            qs5  -0.0009 0.5188 -0.0023  0.0005  False\n",
      "--------------------------------------------------------------------\n"
     ]
    },
    {
     "name": "stderr",
     "output_type": "stream",
     "text": [
      "/home/jyotiradityamayor/.local/lib/python3.8/site-packages/statsmodels/sandbox/stats/multicomp.py:775: UserWarning: FixedFormatter should only be used together with FixedLocator\n",
      "  ax1.set_yticklabels(np.insert(self.groupsunique.astype(str), 0, ''))\n"
     ]
    },
    {
     "data": {
      "image/png": "[encoded data removed]",
      "text/plain": [
       "<Figure size 720x432 with 1 Axes>"
      ]
     },
     "metadata": {
      "needs_background": "light"
     },
     "output_type": "display_data"
    }
   ],
   "source": [
    "import sys\n",
    "import time\n",
    "import numpy as np\n",
    "import pandas as pd\n",
    "from scipy import stats\n",
    "import matplotlib\n",
    "from statsmodels.stats.multicomp import pairwise_tukeyhsd\n",
    "\n",
    "\n",
    "data = pd.read_csv('data.csv')\n",
    "anova = stats.f_oneway(data.qs1, data.qs2, data.qs3, data.qs4, data.qs5, data.merge1, data.partition_sort)\n",
    "print(anova.pvalue)\n",
    "x_melt = pd.melt(data)\n",
    "posthoc = pairwise_tukeyhsd(\n",
    "    x_melt['value'], x_melt['variable'],\n",
    "    alpha=0.05)\n",
    "print(posthoc)\n",
    "fig = posthoc.plot_simultaneous()"
   ]
  },
  {
   "cell_type": "code",
   "execution_count": null,
   "id": "heated-antique",
   "metadata": {},
   "outputs": [],
   "source": []
  }
 ],
 "metadata": {
  "kernelspec": {
   "display_name": "Python 3",
   "language": "python",
   "name": "python3"
  },
  "language_info": {
   "codemirror_mode": {
    "name": "ipython",
    "version": 3
   },
   "file_extension": ".py",
   "mimetype": "text/x-python",
   "name": "python",
   "nbconvert_exporter": "python",
   "pygments_lexer": "ipython3",
   "version": "3.8.10"
  }
 },
 "nbformat": 4,
 "nbformat_minor": 5
}

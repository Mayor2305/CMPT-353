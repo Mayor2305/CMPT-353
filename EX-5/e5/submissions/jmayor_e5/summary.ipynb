{
 "cells": [
  {
   "cell_type": "code",
   "execution_count": 1,
   "id": "figured-punishment",
   "metadata": {},
   "outputs": [],
   "source": [
    "import numpy as np\n",
    "import pandas as pd\n",
    "from scipy import stats"
   ]
  },
  {
   "cell_type": "code",
   "execution_count": 2,
   "id": "registered-condition",
   "metadata": {
    "scrolled": false
   },
   "outputs": [],
   "source": [
    "data_1 = pd.read_csv('data-1.csv')\n",
    "data_2 = pd.read_csv('data-2.csv')\n",
    "data_3 = pd.read_csv('data-3.csv')\n",
    "data_4 = pd.read_csv('data-4.csv')\n",
    "data_5 = pd.read_csv('data-5.csv')\n",
    "data_6 = pd.read_csv('data-6.csv')"
   ]
  },
  {
   "cell_type": "code",
   "execution_count": 3,
   "id": "announced-domain",
   "metadata": {},
   "outputs": [],
   "source": [
    "mean_1 = np.mean(data_1)\n",
    "mean_2 = np.mean(data_2)\n",
    "mean_3 = np.mean(data_3)\n",
    "mean_4 = np.mean(data_4)\n",
    "mean_5 = np.mean(data_5)\n",
    "mean_6 = np.mean(data_6)"
   ]
  },
  {
   "cell_type": "code",
   "execution_count": 4,
   "id": "ultimate-birthday",
   "metadata": {},
   "outputs": [],
   "source": [
    "sd_1 = np.std(data_1)\n",
    "sd_2 = np.std(data_2)\n",
    "sd_3 = np.std(data_3)\n",
    "sd_4 = np.std(data_4)\n",
    "sd_5 = np.std(data_5)\n",
    "sd_6 = np.std(data_6)"
   ]
  },
  {
   "cell_type": "code",
   "execution_count": 5,
   "id": "above-morning",
   "metadata": {},
   "outputs": [],
   "source": [
    "min_1 = np.min(data_1)\n",
    "min_2 = np.min(data_2)\n",
    "min_3 = np.min(data_3)\n",
    "min_4 = np.min(data_4)\n",
    "min_5 = np.min(data_5)\n",
    "min_6 = np.min(data_6)"
   ]
  },
  {
   "cell_type": "code",
   "execution_count": 6,
   "id": "political-saturday",
   "metadata": {},
   "outputs": [],
   "source": [
    "max_1 = np.max(data_1)\n",
    "max_2 = np.max(data_2)\n",
    "max_3 = np.max(data_3)\n",
    "max_4 = np.max(data_4)\n",
    "max_5 = np.max(data_5)\n",
    "max_6 = np.max(data_6)"
   ]
  },
  {
   "cell_type": "code",
   "execution_count": 7,
   "id": "infinite-association",
   "metadata": {},
   "outputs": [],
   "source": [
    "correlation_1 = stats.linregress(data_1.x, data_1.y).rvalue\n",
    "correlation_2 = stats.linregress(data_2.x, data_2.y).rvalue\n",
    "correlation_3 = stats.linregress(data_3.x, data_3.y).rvalue\n",
    "correlation_4 = stats.linregress(data_4.x, data_4.y).rvalue\n",
    "correlation_5 = stats.linregress(data_5.x, data_5.y).rvalue\n",
    "correlation_6 = stats.linregress(data_6.x, data_6.y).rvalue"
   ]
  }
 ],
 "metadata": {
  "kernelspec": {
   "display_name": "Python 3",
   "language": "python",
   "name": "python3"
  },
  "language_info": {
   "codemirror_mode": {
    "name": "ipython",
    "version": 3
   },
   "file_extension": ".py",
   "mimetype": "text/x-python",
   "name": "python",
   "nbconvert_exporter": "python",
   "pygments_lexer": "ipython3",
   "version": "3.8.10"
  }
 },
 "nbformat": 4,
 "nbformat_minor": 5
}
